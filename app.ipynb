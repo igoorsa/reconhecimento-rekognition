{
 "cells": [
  {
   "cell_type": "markdown",
   "id": "069a5da5",
   "metadata": {},
   "source": [
    "# Instalando bibliotecas"
   ]
  },
  {
   "cell_type": "code",
   "execution_count": 2,
   "id": "af4df3a1",
   "metadata": {},
   "outputs": [
    {
     "name": "stdout",
     "output_type": "stream",
     "text": [
      "Collecting boto3\n",
      "  Downloading boto3-1.38.8-py3-none-any.whl (139 kB)\n",
      "     ---------------------------------------- 0.0/139.9 kB ? eta -:--:--\n",
      "     -------------------------------------- 139.9/139.9 kB 4.2 MB/s eta 0:00:00\n",
      "Collecting jmespath<2.0.0,>=0.7.1\n",
      "  Downloading jmespath-1.0.1-py3-none-any.whl (20 kB)\n",
      "Collecting s3transfer<0.13.0,>=0.12.0\n",
      "  Downloading s3transfer-0.12.0-py3-none-any.whl (84 kB)\n",
      "     ---------------------------------------- 0.0/84.8 kB ? eta -:--:--\n",
      "     ---------------------------------------- 84.8/84.8 kB 4.7 MB/s eta 0:00:00\n",
      "Collecting botocore<1.39.0,>=1.38.8\n",
      "  Downloading botocore-1.38.8-py3-none-any.whl (13.5 MB)\n",
      "     ---------------------------------------- 0.0/13.5 MB ? eta -:--:--\n",
      "     -- ------------------------------------- 0.7/13.5 MB 23.0 MB/s eta 0:00:01\n",
      "     ------- -------------------------------- 2.5/13.5 MB 32.6 MB/s eta 0:00:01\n",
      "     ---------------- ----------------------- 5.4/13.5 MB 43.3 MB/s eta 0:00:01\n",
      "     ----------------------------- --------- 10.3/13.5 MB 59.5 MB/s eta 0:00:01\n",
      "     -------------------------------------  13.5/13.5 MB 108.8 MB/s eta 0:00:01\n",
      "     -------------------------------------  13.5/13.5 MB 108.8 MB/s eta 0:00:01\n",
      "     --------------------------------------- 13.5/13.5 MB 59.4 MB/s eta 0:00:00\n",
      "Requirement already satisfied: python-dateutil<3.0.0,>=2.1 in c:\\users\\igor alves\\appdata\\roaming\\python\\python310\\site-packages (from botocore<1.39.0,>=1.38.8->boto3) (2.9.0.post0)\n",
      "Requirement already satisfied: urllib3!=2.2.0,<3,>=1.25.4 in c:\\users\\igor alves\\appdata\\local\\programs\\python\\python310\\lib\\site-packages (from botocore<1.39.0,>=1.38.8->boto3) (2.3.0)\n",
      "Requirement already satisfied: six>=1.5 in c:\\users\\igor alves\\appdata\\roaming\\python\\python310\\site-packages (from python-dateutil<3.0.0,>=2.1->botocore<1.39.0,>=1.38.8->boto3) (1.17.0)\n",
      "Installing collected packages: jmespath, botocore, s3transfer, boto3\n",
      "Successfully installed boto3-1.38.8 botocore-1.38.8 jmespath-1.0.1 s3transfer-0.12.0\n"
     ]
    },
    {
     "name": "stderr",
     "output_type": "stream",
     "text": [
      "WARNING: Ignoring invalid distribution -rotobuf (c:\\users\\igor alves\\appdata\\local\\programs\\python\\python310\\lib\\site-packages)\n",
      "WARNING: Ignoring invalid distribution -rotobuf (c:\\users\\igor alves\\appdata\\local\\programs\\python\\python310\\lib\\site-packages)\n",
      "WARNING: Ignoring invalid distribution -rotobuf (c:\\users\\igor alves\\appdata\\local\\programs\\python\\python310\\lib\\site-packages)\n",
      "WARNING: Ignoring invalid distribution -rotobuf (c:\\users\\igor alves\\appdata\\local\\programs\\python\\python310\\lib\\site-packages)\n",
      "WARNING: Ignoring invalid distribution -rotobuf (c:\\users\\igor alves\\appdata\\local\\programs\\python\\python310\\lib\\site-packages)\n",
      "WARNING: Ignoring invalid distribution -rotobuf (c:\\users\\igor alves\\appdata\\local\\programs\\python\\python310\\lib\\site-packages)\n",
      "WARNING: Ignoring invalid distribution -rotobuf (c:\\users\\igor alves\\appdata\\local\\programs\\python\\python310\\lib\\site-packages)\n",
      "WARNING: Ignoring invalid distribution -rotobuf (c:\\users\\igor alves\\appdata\\local\\programs\\python\\python310\\lib\\site-packages)\n",
      "WARNING: Ignoring invalid distribution -rotobuf (c:\\users\\igor alves\\appdata\\local\\programs\\python\\python310\\lib\\site-packages)\n",
      "WARNING: Ignoring invalid distribution -rotobuf (c:\\users\\igor alves\\appdata\\local\\programs\\python\\python310\\lib\\site-packages)\n",
      "\n",
      "[notice] A new release of pip is available: 23.0.1 -> 25.1\n",
      "[notice] To update, run: python.exe -m pip install --upgrade pip\n"
     ]
    }
   ],
   "source": [
    "!pip install boto3"
   ]
  },
  {
   "cell_type": "markdown",
   "id": "33333c49",
   "metadata": {},
   "source": [
    "# Importando bibliotecas"
   ]
  },
  {
   "cell_type": "code",
   "execution_count": null,
   "id": "eb0b9693",
   "metadata": {},
   "outputs": [],
   "source": [
    "import boto3\n",
    "import base64"
   ]
  },
  {
   "cell_type": "markdown",
   "id": "0ed5a94c",
   "metadata": {},
   "source": [
    "### Conectando aos serviços AWS Rekognition e Textract\n",
    "\n",
    "Para usar os serviços de Visão Computacional da AWS em Python, utilizamos a biblioteca `boto3`, que é o SDK oficial da AWS.\n"
   ]
  },
  {
   "cell_type": "code",
   "execution_count": 28,
   "id": "e378aa2f",
   "metadata": {},
   "outputs": [],
   "source": [
    "rekognition = boto3.client('rekognition', region_name='us-east-1')\n",
    "textract = boto3.client('textract', region_name='us-east-1') "
   ]
  },
  {
   "cell_type": "markdown",
   "id": "f44b5eeb",
   "metadata": {},
   "source": [
    "### Função: `decode_base64_image`\n",
    "\n",
    "Esta função tem como objetivo decodificar uma imagem que está em formato Base64, retornando os bytes da imagem.\n",
    "\n"
   ]
  },
  {
   "cell_type": "code",
   "execution_count": 32,
   "id": "05efffac",
   "metadata": {},
   "outputs": [],
   "source": [
    "def decode_base64_image(base64_string):\n",
    "    return base64.b64decode(base64_string.split(\",\")[-1])"
   ]
  },
  {
   "cell_type": "markdown",
   "id": "35bca1a5",
   "metadata": {},
   "source": [
    "### Função: `compare_faces`\n",
    "\n",
    "Esta função utiliza o serviço **Amazon Rekognition** para comparar duas imagens de rosto: uma selfie e uma foto presente em um documento (por exemplo, RG ou CNH).\n"
   ]
  },
  {
   "cell_type": "code",
   "execution_count": 33,
   "id": "027e8473",
   "metadata": {},
   "outputs": [],
   "source": [
    "def compare_faces(selfie_bytes, doc_bytes, similarity_threshold=90):\n",
    "    response = rekognition.compare_faces(\n",
    "        SourceImage={'Bytes': selfie_bytes},\n",
    "        TargetImage={'Bytes': doc_bytes},\n",
    "        SimilarityThreshold=similarity_threshold\n",
    "    )\n",
    "    for faceMatch in response['FaceMatches']:\n",
    "        similarity = faceMatch['Similarity']\n",
    "        return similarity\n",
    "    return 0  "
   ]
  },
  {
   "cell_type": "markdown",
   "id": "05ecbe14",
   "metadata": {},
   "source": [
    "### Função: `extract_text_from_image`\n",
    "\n",
    "Esta função utiliza o serviço **Amazon Rekognition** para extrair texto de uma imagem. Ela retorna todas as linhas de texto detectadas pela ferramenta.\n"
   ]
  },
  {
   "cell_type": "code",
   "execution_count": null,
   "id": "67442313",
   "metadata": {},
   "outputs": [],
   "source": [
    "def extract_text_from_image(image_bytes):\n",
    "    response = rekognition.detect_text(Image={'Bytes': image_bytes})\n",
    "    detected_texts = [text['DetectedText'] for text in response['TextDetections'] if text['Type'] == 'LINE']\n",
    "    return detected_texts"
   ]
  },
  {
   "cell_type": "markdown",
   "id": "b78ef6c3",
   "metadata": {},
   "source": [
    "### Função: `extract_info_from_text`\n",
    "\n",
    "Esta função extrai informações específicas (como nome e CPF) de uma lista de linhas de texto. Ela busca palavras-chave e tenta associar os valores encontrados às informações desejadas.\n"
   ]
  },
  {
   "cell_type": "code",
   "execution_count": null,
   "id": "2108949e",
   "metadata": {},
   "outputs": [],
   "source": [
    "def extract_info_from_text(text_lines):\n",
    "    info = {}\n",
    "    campos = {\n",
    "        \"nome\": [\"NOME\"],\n",
    "        \"cpf\": [\"CPF\"]\n",
    "    }\n",
    "\n",
    "    for i, line in enumerate(text_lines):\n",
    "        for chave, palavras in campos.items():\n",
    "            if any(palavra in line.upper() for palavra in palavras):\n",
    "                # Tenta pegar a próxima linha como valor\n",
    "                if i + 1 < len(text_lines):\n",
    "                    valor = text_lines[i + 1].strip()\n",
    "                    if chave not in info:  # Para evitar sobrescrita\n",
    "                        info[chave] = valor\n",
    "    return info\n"
   ]
  },
  {
   "cell_type": "markdown",
   "id": "3b897afe",
   "metadata": {},
   "source": [
    "### Função: `processar_documento`\n",
    "\n",
    "Esta função realiza o processamento completo de dois documentos: uma **selfie** e uma **CNH** (Carteira Nacional de Habilitação), para verificar a similaridade entre os rostos e extrair informações relevantes da CNH.\n"
   ]
  },
  {
   "cell_type": "code",
   "execution_count": 34,
   "id": "9dc1b002",
   "metadata": {},
   "outputs": [],
   "source": [
    "def processar_documento(selfie_base64, cnh_base64):\n",
    "    selfie_bytes = decode_base64_image(selfie_base64)\n",
    "    cnh_bytes = decode_base64_image(cnh_base64)\n",
    "\n",
    "    # 1. Comparar rosto\n",
    "    similaridade = compare_faces(selfie_bytes, cnh_bytes)\n",
    "    print(f\"Similaridade: {similaridade:.2f}%\")\n",
    "\n",
    "    if similaridade < 90:\n",
    "        return similaridade\n",
    "\n",
    "    # 2. Extrair texto\n",
    "    textos = extract_text_from_image(cnh_bytes)\n",
    "    info = extract_info_from_text(textos)\n",
    "    \n",
    "    return {\n",
    "        \"similaridade\": similaridade,\n",
    "        \"informacoes_extraidas\": info\n",
    "    }"
   ]
  },
  {
   "cell_type": "markdown",
   "id": "e22c52d4",
   "metadata": {},
   "source": [
    "### Função: `extrair_endereco_por_nome`\n",
    "\n",
    "Esta função extrai o endereço associado a um nome específico de uma lista de linhas de texto. A função procura pelo nome desejado e, se encontrado, tenta retornar o endereço que está na linha 10 após o nome.\n"
   ]
  },
  {
   "cell_type": "code",
   "execution_count": null,
   "id": "b7c87a54",
   "metadata": {},
   "outputs": [],
   "source": [
    "    \n",
    "def extrair_endereco_por_nome(text_lines, nome_alvo):\n",
    "    for i, linha in enumerate(text_lines):\n",
    "        if nome_alvo.upper() in linha.upper():\n",
    "            if len(text_lines) > 10:\n",
    "                return text_lines[10].strip()\n",
    "            else:\n",
    "                return None\n",
    "    return None"
   ]
  },
  {
   "cell_type": "markdown",
   "id": "72103fcf",
   "metadata": {},
   "source": [
    "### Função: `processar_conta_por_nome`\n",
    "\n",
    "Esta função processa uma imagem de conta (ou outro documento) e busca um **endereço** associado a um **nome específico**. Ela extrai o texto da imagem e, se o nome for encontrado, tenta extrair o endereço relacionado.\n"
   ]
  },
  {
   "cell_type": "code",
   "execution_count": null,
   "id": "3eb58f2b",
   "metadata": {},
   "outputs": [],
   "source": [
    "def processar_conta_por_nome(caminho_arquivo, nome_alvo, mostrar_tudo=False):\n",
    "    with open(caminho_arquivo, \"rb\") as f:\n",
    "        imagem_bytes = f.read()\n",
    "    linhas = extract_text_from_image(imagem_bytes)\n",
    "\n",
    "    endereco = extrair_endereco_por_nome(linhas, nome_alvo)\n",
    "    return {\n",
    "        \"nome_encontrado\": nome_alvo if endereco else None,\n",
    "        \"endereco\": endereco\n",
    "    }"
   ]
  },
  {
   "cell_type": "code",
   "execution_count": 37,
   "id": "f9387f91",
   "metadata": {},
   "outputs": [
    {
     "name": "stdout",
     "output_type": "stream",
     "text": [
      "Similaridade: 99.99%\n",
      "Resto são iguais, validando conta\n",
      "\n",
      "=== Resultado extraído ===\n",
      "{'nome_encontrado': 'IGOR SILVA ALVES', 'endereco': 'R EDGAR AQUINO DUARTE, 123'}\n"
     ]
    }
   ],
   "source": [
    "import base64\n",
    "\n",
    "def carregar_imagem_base64(caminho):\n",
    "    with open(caminho, \"rb\") as img_file:\n",
    "        return base64.b64encode(img_file.read()).decode('utf-8')\n",
    "\n",
    "# Caminhos locais das imagens\n",
    "caminho_selfie = \"self.jpeg\"\n",
    "caminho_cnh = \"cnh.jpeg\"\n",
    "\n",
    "# Converte para base64\n",
    "selfie_base64 = carregar_imagem_base64(caminho_selfie)\n",
    "cnh_base64 = carregar_imagem_base64(caminho_cnh)\n",
    "\n",
    "# Chama a função principal\n",
    "resultado_imilaridade = processar_documento(selfie_base64, cnh_base64)\n",
    "\n",
    "if resultado_imilaridade['similaridade'] > 99.:\n",
    "    print(\"Resto são iguais, validando conta\")\n",
    "    resultado = processar_conta_por_nome(\"conta.jpeg\", resultado_imilaridade['informacoes_extraidas']['nome'], mostrar_tudo=True)\n",
    "    print(\"\\n=== Resultado extraído ===\")\n",
    "    print(resultado)"
   ]
  }
 ],
 "metadata": {
  "kernelspec": {
   "display_name": "Python 3",
   "language": "python",
   "name": "python3"
  },
  "language_info": {
   "codemirror_mode": {
    "name": "ipython",
    "version": 3
   },
   "file_extension": ".py",
   "mimetype": "text/x-python",
   "name": "python",
   "nbconvert_exporter": "python",
   "pygments_lexer": "ipython3",
   "version": "3.10.11"
  }
 },
 "nbformat": 4,
 "nbformat_minor": 5
}
